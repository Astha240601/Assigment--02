{
 "cells": [
  {
   "cell_type": "code",
   "execution_count": 2,
   "id": "e8d71342",
   "metadata": {},
   "outputs": [
    {
     "name": "stdout",
     "output_type": "stream",
     "text": [
      "input a word to reverse:edyoda\n",
      "original string: edyoda\n",
      "reverse stringh adoyde\n"
     ]
    }
   ],
   "source": [
    "def reverse(string):\n",
    "    revstr=\"\"\n",
    "    for i in string:\n",
    "         revstr = i + revstr\n",
    "    return revstr\n",
    "string = input(\"input a word to reverse:\")\n",
    "print(\"original string:\", string)\n",
    "print (\"reverse stringh\", reverse(string))\n",
    "        "
   ]
  },
  {
   "cell_type": "code",
   "execution_count": null,
   "id": "deb3c465",
   "metadata": {},
   "outputs": [],
   "source": []
  },
  {
   "cell_type": "code",
   "execution_count": null,
   "id": "8b32863a",
   "metadata": {},
   "outputs": [],
   "source": []
  }
 ],
 "metadata": {
  "kernelspec": {
   "display_name": "Python 3 (ipykernel)",
   "language": "python",
   "name": "python3"
  },
  "language_info": {
   "codemirror_mode": {
    "name": "ipython",
    "version": 3
   },
   "file_extension": ".py",
   "mimetype": "text/x-python",
   "name": "python",
   "nbconvert_exporter": "python",
   "pygments_lexer": "ipython3",
   "version": "3.9.12"
  }
 },
 "nbformat": 4,
 "nbformat_minor": 5
}
